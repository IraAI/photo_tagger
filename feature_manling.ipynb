{
 "cells": [
  {
   "cell_type": "code",
   "execution_count": 1,
   "metadata": {
    "collapsed": true
   },
   "outputs": [],
   "source": [
    "import caffe\n",
    "import cv2 as cv\n",
    "import matplotlib.pyplot as plt\n",
    "import numpy as np\n",
    "import os\n",
    "import pandas as pd\n",
    "\n",
    "class Update_DB(object):\n",
    "    DB_PATH = 'actions.csv'  # relative path to CSV file\n",
    "    COLUMNS = ['img', 'act_class']  # columns to read from CSV\n",
    "    VALUES_COLUMN = 'act_class'  # column that contains Values\n",
    "    \n",
    "    MODEL_CONFIG_PATH = 'model/bvlc_reference_caffenet/deploy.prototxt'\n",
    "    # binary pretrained model\n",
    "    MODEL_WEIGTHS_PATH = 'model/bvlc_reference_caffenet/bvlc_reference_caffenet.caffemodel'\n",
    "    # labels from ImageNet, 1000 categories\n",
    "    LABELS_PATH = 'image_data/labels1/synset_words.txt'\n",
    "    # dataset\n",
    "    IMAGES_FOLDER_PATH = 'image_data/dataset1/'\n",
    "    # CageNet takes as input images227x227\n",
    "    WIDTH = 227\n",
    "    HEIGHT = 227\n",
    "    # mean for normalizing dataset\n",
    "    MEAN_VALS = np.array([104.00698793, 116.66876762, 122.67891434])\n",
    "    \n",
    "    def __init__(self):\n",
    "        #caffe.set_device(0)  # if we have multiple GPUs, pick the first one\n",
    "        #caffe.set_mode_gpu()        \n",
    "        \n",
    "        self.prj_root = os.getcwd() # project root, current folder\n",
    "        self.model_config = os.path.join(self.prj_root, self.MODEL_CONFIG_PATH)\n",
    "        self.model_weights = os.path.join(self.prj_root, self.MODEL_WEIGTHS_PATH)\n",
    "        # load network\n",
    "        self.net = caffe.Net(self.model_config, self.model_weights, caffe.TEST)\n",
    "        self.net.blobs['data'].reshape(1, 3, self.WIDTH, self.HEIGHT)\n",
    "        self.labels_file = os.path.join(self.prj_root, 'image_data/labels1/synset_words.txt')\n",
    "        # get class names from labels file\n",
    "        self.class_names = np.loadtxt(self.labels_file, str, delimiter='\\t')\n",
    "        self.images = []\n",
    "        self.img_filenames = []\n",
    "        self.img_classes = []\n",
    "        \n",
    "    def preprocess_data(self):\n",
    "        # Data needs to be preprocessed in order to pass it to the network\n",
    "        img_folder =  os.path.join(self.prj_root, self.IMAGES_FOLDER_PATH)\n",
    "        # print(img_folder)\n",
    "        for img_filename in os.listdir(img_folder):\n",
    "            self.img_filenames.append(img_filename)\n",
    "            img_fullname = os.path.join(img_folder, img_filename)\n",
    "            img = cv.imread(img_fullname)\n",
    "            # cv.imshow('image',img)\n",
    "            # cv.waitKey(0)\n",
    "            # cv.destroyAllWindows()\n",
    "            # print img_filename\n",
    "            img = cv.resize(img, (227,227))\n",
    "            img = img.astype(float)\n",
    "            img = img - self.MEAN_VALS\n",
    "            img = img.swapaxes(0, 2).swapaxes(1,2)\n",
    "            self.images.append(img)\n",
    "            \n",
    "        for i in xrange(0,len(self.class_names)):\n",
    "            blank_index = self.class_names[i].find(\" \")\n",
    "            self.class_names[i] = self.class_names[i][blank_index+1:]\n",
    "            # print blank_index\n",
    "        \n",
    "        \n",
    "    def classify(self):\n",
    "        # pass images to the network, predict tags\n",
    "        for img in self.images:\n",
    "            self.net.blobs['data'].data[...] = img\n",
    "            res = self.net.forward()['prob'][0]\n",
    "            # print self.class_names[np.argmax(res)]\n",
    "            self.img_classes.append(self.class_names[np.argmax(res)])\n",
    "            \n",
    "    def writeCsv(self):\n",
    "        d = {'img' : self.img_filenames, 'act_class' : self.img_classes}\n",
    "        df = pd.DataFrame(data=d, columns=['img', 'act_class'])\n",
    "        df.to_csv('action.csv', sep=';', header=True, index=False)\n",
    "        # print df\n",
    "\n",
    "    def get_features(self, layer_name):\n",
    "        # get feature map vector\n",
    "        num_images = len(self.images)\n",
    "        num_features = net.blobs[layer_name].shape[0]\n",
    "        print(num_features)\n",
    "\n",
    "        feature_matrix = np.zeros((num_images, num_features), np.float64)\n",
    "        for idx, img in enumerate(self.images):\n",
    "            self.net.blobs['data'].data[...] = img\n",
    "            self.net.forward()\n",
    "            feature_vec = net.blobs[layer_name]\n",
    "            feature_matrix[idx] = feature_vec\n",
    "\n",
    "        return feature_matrix"
   ]
  },
  {
   "cell_type": "code",
   "execution_count": null,
   "metadata": {
    "collapsed": true
   },
   "outputs": [],
   "source": [
    "udb = Update_DB()\n",
    "udb.preprocess_data()\n",
    "fm = udb.get_features()\n",
    "print(fm.shape)"
   ]
  },
  {
   "cell_type": "code",
   "execution_count": null,
   "metadata": {
    "collapsed": true
   },
   "outputs": [],
   "source": [
    "plt.plot"
   ]
  },
  {
   "cell_type": "code",
   "execution_count": null,
   "metadata": {
    "collapsed": true
   },
   "outputs": [],
   "source": []
  }
 ],
 "metadata": {
  "kernelspec": {
   "display_name": "Python [LvCSSS]",
   "language": "python",
   "name": "Python [LvCSSS]"
  },
  "language_info": {
   "codemirror_mode": {
    "name": "ipython",
    "version": 2
   },
   "file_extension": ".py",
   "mimetype": "text/x-python",
   "name": "python",
   "nbconvert_exporter": "python",
   "pygments_lexer": "ipython2",
   "version": "2.7.12"
  }
 },
 "nbformat": 4,
 "nbformat_minor": 0
}
