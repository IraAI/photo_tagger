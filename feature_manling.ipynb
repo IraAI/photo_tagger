{
 "cells": [
  {
   "cell_type": "code",
   "execution_count": 1,
   "metadata": {
    "collapsed": false
   },
   "outputs": [],
   "source": [
    "import cv2 as cv2\n",
    "%matplotlib inline\n",
    "import matplotlib.pyplot as plt\n",
    "import numpy as np\n",
    "import os\n",
    "import pandas as pd\n",
    "\n",
    "from update_DB import Update_DB\n",
    "from query import Thumbnails"
   ]
  },
  {
   "cell_type": "code",
   "execution_count": 3,
   "metadata": {
    "collapsed": false
   },
   "outputs": [
    {
     "name": "stdout",
     "output_type": "stream",
     "text": [
      "(0, 1000)\n"
     ]
    },
    {
     "data": {
      "text/plain": [
       "array([], shape=(0, 1000), dtype=float64)"
      ]
     },
     "execution_count": 3,
     "metadata": {},
     "output_type": "execute_result"
    }
   ],
   "source": [
    "udb = Update_DB()\n",
    "udb.preprocess_data()\n",
    "fm = udb.get_features('fc8')\n",
    "print(fm.shape)\n",
    "fm"
   ]
  },
  {
   "cell_type": "code",
   "execution_count": 3,
   "metadata": {
    "collapsed": false
   },
   "outputs": [
    {
     "name": "stderr",
     "output_type": "stream",
     "text": [
      "/usr/lib/python2.7/site-packages/IPython/html.py:14: ShimWarning: The `IPython.html` package has been deprecated. You should import from `notebook` instead. `IPython.html.widgets` has moved to `ipywidgets`.\n",
      "  \"`IPython.html.widgets` has moved to `ipywidgets`.\", ShimWarning)\n"
     ]
    },
    {
     "name": "stdout",
     "output_type": "stream",
     "text": [
      "0\n",
      "0\n",
      "0\n"
     ]
    },
    {
     "ename": "IndexError",
     "evalue": "index 0 is out of bounds for axis 0 with size 0",
     "output_type": "error",
     "traceback": [
      "\u001b[1;31m---------------------------------------------------------------------------\u001b[0m",
      "\u001b[1;31mIndexError\u001b[0m                                Traceback (most recent call last)",
      "\u001b[1;32m<ipython-input-3-b72a2d31255f>\u001b[0m in \u001b[0;36m<module>\u001b[1;34m()\u001b[0m\n\u001b[0;32m     29\u001b[0m \u001b[0mf\u001b[0m\u001b[1;33m,\u001b[0m \u001b[1;33m(\u001b[0m\u001b[0max1\u001b[0m\u001b[1;33m,\u001b[0m \u001b[0max2\u001b[0m\u001b[1;33m)\u001b[0m \u001b[1;33m=\u001b[0m \u001b[0mplt\u001b[0m\u001b[1;33m.\u001b[0m\u001b[0msubplots\u001b[0m\u001b[1;33m(\u001b[0m\u001b[1;36m1\u001b[0m\u001b[1;33m,\u001b[0m \u001b[1;36m2\u001b[0m\u001b[1;33m)\u001b[0m\u001b[1;33m\u001b[0m\u001b[0m\n\u001b[0;32m     30\u001b[0m \u001b[0max1\u001b[0m\u001b[1;33m.\u001b[0m\u001b[0mplot\u001b[0m\u001b[1;33m(\u001b[0m\u001b[0mvect_comb\u001b[0m\u001b[1;33m[\u001b[0m\u001b[1;33m:\u001b[0m\u001b[1;33m,\u001b[0m\u001b[1;36m2\u001b[0m\u001b[1;33m]\u001b[0m\u001b[1;33m[\u001b[0m\u001b[1;33m:\u001b[0m\u001b[1;33m]\u001b[0m\u001b[1;33m)\u001b[0m\u001b[1;33m\u001b[0m\u001b[0m\n\u001b[1;32m---> 31\u001b[1;33m \u001b[0max2\u001b[0m\u001b[1;33m.\u001b[0m\u001b[0mboxplot\u001b[0m\u001b[1;33m(\u001b[0m\u001b[0mvect_comb\u001b[0m\u001b[1;33m[\u001b[0m\u001b[1;33m:\u001b[0m\u001b[1;33m,\u001b[0m\u001b[1;36m2\u001b[0m\u001b[1;33m]\u001b[0m\u001b[1;33m[\u001b[0m\u001b[1;33m:\u001b[0m\u001b[1;33m]\u001b[0m\u001b[1;33m)\u001b[0m\u001b[1;33m\u001b[0m\u001b[0m\n\u001b[0m\u001b[0;32m     32\u001b[0m \u001b[0mplt\u001b[0m\u001b[1;33m.\u001b[0m\u001b[0mshow\u001b[0m\u001b[1;33m(\u001b[0m\u001b[1;33m)\u001b[0m\u001b[1;33m\u001b[0m\u001b[0m\n\u001b[0;32m     33\u001b[0m \u001b[1;33m\u001b[0m\u001b[0m\n",
      "\u001b[1;32m/usr/lib/python2.7/site-packages/matplotlib/__init__.pyc\u001b[0m in \u001b[0;36minner\u001b[1;34m(ax, *args, **kwargs)\u001b[0m\n\u001b[0;32m   1810\u001b[0m                     warnings.warn(msg % (label_namer, func.__name__),\n\u001b[0;32m   1811\u001b[0m                                   RuntimeWarning, stacklevel=2)\n\u001b[1;32m-> 1812\u001b[1;33m             \u001b[1;32mreturn\u001b[0m \u001b[0mfunc\u001b[0m\u001b[1;33m(\u001b[0m\u001b[0max\u001b[0m\u001b[1;33m,\u001b[0m \u001b[1;33m*\u001b[0m\u001b[0margs\u001b[0m\u001b[1;33m,\u001b[0m \u001b[1;33m**\u001b[0m\u001b[0mkwargs\u001b[0m\u001b[1;33m)\u001b[0m\u001b[1;33m\u001b[0m\u001b[0m\n\u001b[0m\u001b[0;32m   1813\u001b[0m         \u001b[0mpre_doc\u001b[0m \u001b[1;33m=\u001b[0m \u001b[0minner\u001b[0m\u001b[1;33m.\u001b[0m\u001b[0m__doc__\u001b[0m\u001b[1;33m\u001b[0m\u001b[0m\n\u001b[0;32m   1814\u001b[0m         \u001b[1;32mif\u001b[0m \u001b[0mpre_doc\u001b[0m \u001b[1;32mis\u001b[0m \u001b[0mNone\u001b[0m\u001b[1;33m:\u001b[0m\u001b[1;33m\u001b[0m\u001b[0m\n",
      "\u001b[1;32m/usr/lib/python2.7/site-packages/matplotlib/axes/_axes.pyc\u001b[0m in \u001b[0;36mboxplot\u001b[1;34m(self, x, notch, sym, vert, whis, positions, widths, patch_artist, bootstrap, usermedians, conf_intervals, meanline, showmeans, showcaps, showbox, showfliers, boxprops, labels, flierprops, medianprops, meanprops, capprops, whiskerprops, manage_xticks)\u001b[0m\n\u001b[0;32m   3210\u001b[0m             \u001b[0mbootstrap\u001b[0m \u001b[1;33m=\u001b[0m \u001b[0mrcParams\u001b[0m\u001b[1;33m[\u001b[0m\u001b[1;34m'boxplot.bootstrap'\u001b[0m\u001b[1;33m]\u001b[0m\u001b[1;33m\u001b[0m\u001b[0m\n\u001b[0;32m   3211\u001b[0m         bxpstats = cbook.boxplot_stats(x, whis=whis, bootstrap=bootstrap,\n\u001b[1;32m-> 3212\u001b[1;33m                                        labels=labels)\n\u001b[0m\u001b[0;32m   3213\u001b[0m         \u001b[1;32mif\u001b[0m \u001b[0mnotch\u001b[0m \u001b[1;32mis\u001b[0m \u001b[0mNone\u001b[0m\u001b[1;33m:\u001b[0m\u001b[1;33m\u001b[0m\u001b[0m\n\u001b[0;32m   3214\u001b[0m             \u001b[0mnotch\u001b[0m \u001b[1;33m=\u001b[0m \u001b[0mrcParams\u001b[0m\u001b[1;33m[\u001b[0m\u001b[1;34m'boxplot.notch'\u001b[0m\u001b[1;33m]\u001b[0m\u001b[1;33m\u001b[0m\u001b[0m\n",
      "\u001b[1;32m/usr/lib/python2.7/site-packages/matplotlib/cbook.pyc\u001b[0m in \u001b[0;36mboxplot_stats\u001b[1;34m(X, whis, bootstrap, labels)\u001b[0m\n\u001b[0;32m   1978\u001b[0m \u001b[1;33m\u001b[0m\u001b[0m\n\u001b[0;32m   1979\u001b[0m     \u001b[1;31m# convert X to a list of lists\u001b[0m\u001b[1;33m\u001b[0m\u001b[1;33m\u001b[0m\u001b[0m\n\u001b[1;32m-> 1980\u001b[1;33m     \u001b[0mX\u001b[0m \u001b[1;33m=\u001b[0m \u001b[0m_reshape_2D\u001b[0m\u001b[1;33m(\u001b[0m\u001b[0mX\u001b[0m\u001b[1;33m)\u001b[0m\u001b[1;33m\u001b[0m\u001b[0m\n\u001b[0m\u001b[0;32m   1981\u001b[0m \u001b[1;33m\u001b[0m\u001b[0m\n\u001b[0;32m   1982\u001b[0m     \u001b[0mncols\u001b[0m \u001b[1;33m=\u001b[0m \u001b[0mlen\u001b[0m\u001b[1;33m(\u001b[0m\u001b[0mX\u001b[0m\u001b[1;33m)\u001b[0m\u001b[1;33m\u001b[0m\u001b[0m\n",
      "\u001b[1;32m/usr/lib/python2.7/site-packages/matplotlib/cbook.pyc\u001b[0m in \u001b[0;36m_reshape_2D\u001b[1;34m(X)\u001b[0m\n\u001b[0;32m   2226\u001b[0m         \u001b[1;31m# one item\u001b[0m\u001b[1;33m\u001b[0m\u001b[1;33m\u001b[0m\u001b[0m\n\u001b[0;32m   2227\u001b[0m         \u001b[1;32mif\u001b[0m \u001b[0mlen\u001b[0m\u001b[1;33m(\u001b[0m\u001b[0mX\u001b[0m\u001b[1;33m.\u001b[0m\u001b[0mshape\u001b[0m\u001b[1;33m)\u001b[0m \u001b[1;33m==\u001b[0m \u001b[1;36m1\u001b[0m\u001b[1;33m:\u001b[0m\u001b[1;33m\u001b[0m\u001b[0m\n\u001b[1;32m-> 2228\u001b[1;33m             \u001b[1;32mif\u001b[0m \u001b[0mhasattr\u001b[0m\u001b[1;33m(\u001b[0m\u001b[0mX\u001b[0m\u001b[1;33m[\u001b[0m\u001b[1;36m0\u001b[0m\u001b[1;33m]\u001b[0m\u001b[1;33m,\u001b[0m \u001b[1;34m'shape'\u001b[0m\u001b[1;33m)\u001b[0m\u001b[1;33m:\u001b[0m\u001b[1;33m\u001b[0m\u001b[0m\n\u001b[0m\u001b[0;32m   2229\u001b[0m                 \u001b[0mX\u001b[0m \u001b[1;33m=\u001b[0m \u001b[0mlist\u001b[0m\u001b[1;33m(\u001b[0m\u001b[0mX\u001b[0m\u001b[1;33m)\u001b[0m\u001b[1;33m\u001b[0m\u001b[0m\n\u001b[0;32m   2230\u001b[0m             \u001b[1;32melse\u001b[0m\u001b[1;33m:\u001b[0m\u001b[1;33m\u001b[0m\u001b[0m\n",
      "\u001b[1;31mIndexError\u001b[0m: index 0 is out of bounds for axis 0 with size 0"
     ]
    },
    {
     "data": {
      "image/png": "[encoded data removed]",
      "text/plain": [
       "<matplotlib.figure.Figure at 0x7f7b805ee190>"
      ]
     },
     "metadata": {},
     "output_type": "display_data"
    }
   ],
   "source": [
    "import itertools\n",
    "import seaborn as sns\n",
    "\n",
    "num_img = fm.shape[0]\n",
    "print(num_img)\n",
    "# number of possible combinations \n",
    "num_comb = (num_img)*(num_img-1)/2\n",
    "num_perm = (num_img)*(num_img-1)\n",
    "print(num_comb)\n",
    "print(num_perm)\n",
    "\n",
    "def _calc_rmse(fm1, fm2):\n",
    "    return np.sqrt(np.mean(fm1-fm2)**2)\n",
    "\n",
    "vect_comb = np.zeros([num_comb,3])\n",
    "comb_matrix = np.zeros([num_img,num_img])\n",
    "for i, comb in enumerate(itertools.combinations(np.arange(num_img), 2)):\n",
    "    vect_comb[i,0:2] = np.array(comb)\n",
    "    rmse   = _calc_rmse(fm[comb[0],:],fm[comb[1],:])\n",
    "    vect_comb[i,2]   = rmse\n",
    "    comb_matrix[comb[0],comb[1]] = rmse\n",
    "    comb_matrix[comb[1],comb[0]] = rmse\n",
    "\n",
    "vect_perm = np.zeros([num_perm,3])\n",
    "for i, perm in enumerate(itertools.permutations(np.arange(num_img), 2)):\n",
    "    vect_perm[i,0:2] = np.array(perm)\n",
    "    vect_perm[i,2]   = _calc_rmse(fm[perm[0],:],fm[perm[1],:])\n",
    "\n",
    "f, (ax1, ax2) = plt.subplots(1, 2)\n",
    "ax1.plot(vect_comb[:,2][:])\n",
    "ax2.boxplot(vect_comb[:,2][:])\n",
    "plt.show()\n",
    "\n",
    "comb_df = pd.DataFrame(comb_matrix)\n",
    "\n",
    "fm_plot = sns.heatmap(comb_matrix,  xticklabels = 10, yticklabels = 10, cmap = 'viridis')\n",
    "fm_plot.set(xlabel='image number', ylabel='image number', title = 'euclidean distance between images')\n",
    "fig = fm_plot.get_figure()\n",
    "fig.savefig('feature_map_plot.png')\n"
   ]
  },
  {
   "cell_type": "code",
   "execution_count": 46,
   "metadata": {
    "collapsed": true
   },
   "outputs": [
    {
     "name": "stdout",
     "output_type": "stream",
     "text": [
      "0.654924483911\n",
      "3.36999914332\n"
     ]
    },
    {
     "data": {
      "text/html": [
       "<div>\n",
       "<table border=\"1\" class=\"dataframe\">\n",
       "  <thead>\n",
       "    <tr style=\"text-align: right;\">\n",
       "      <th></th>\n",
       "      <th>0</th>\n",
       "      <th>1</th>\n",
       "      <th>2</th>\n",
       "    </tr>\n",
       "  </thead>\n",
       "  <tbody>\n",
       "    <tr>\n",
       "      <th>17</th>\n",
       "      <td>0</td>\n",
       "      <td>18</td>\n",
       "      <td>1.618533</td>\n",
       "    </tr>\n",
       "    <tr>\n",
       "      <th>313</th>\n",
       "      <td>3</td>\n",
       "      <td>5</td>\n",
       "      <td>1.674739</td>\n",
       "    </tr>\n",
       "    <tr>\n",
       "      <th>380</th>\n",
       "      <td>3</td>\n",
       "      <td>72</td>\n",
       "      <td>1.501238</td>\n",
       "    </tr>\n",
       "    <tr>\n",
       "      <th>383</th>\n",
       "      <td>3</td>\n",
       "      <td>75</td>\n",
       "      <td>1.511286</td>\n",
       "    </tr>\n",
       "    <tr>\n",
       "      <th>1166</th>\n",
       "      <td>11</td>\n",
       "      <td>78</td>\n",
       "      <td>1.680856</td>\n",
       "    </tr>\n",
       "    <tr>\n",
       "      <th>1208</th>\n",
       "      <td>12</td>\n",
       "      <td>27</td>\n",
       "      <td>1.499014</td>\n",
       "    </tr>\n",
       "    <tr>\n",
       "      <th>1323</th>\n",
       "      <td>13</td>\n",
       "      <td>50</td>\n",
       "      <td>1.685757</td>\n",
       "    </tr>\n",
       "    <tr>\n",
       "      <th>1336</th>\n",
       "      <td>13</td>\n",
       "      <td>63</td>\n",
       "      <td>1.494403</td>\n",
       "    </tr>\n",
       "    <tr>\n",
       "      <th>1373</th>\n",
       "      <td>13</td>\n",
       "      <td>100</td>\n",
       "      <td>1.432828</td>\n",
       "    </tr>\n",
       "    <tr>\n",
       "      <th>2014</th>\n",
       "      <td>21</td>\n",
       "      <td>41</td>\n",
       "      <td>1.628571</td>\n",
       "    </tr>\n",
       "    <tr>\n",
       "      <th>2026</th>\n",
       "      <td>21</td>\n",
       "      <td>53</td>\n",
       "      <td>1.403061</td>\n",
       "    </tr>\n",
       "    <tr>\n",
       "      <th>2633</th>\n",
       "      <td>28</td>\n",
       "      <td>100</td>\n",
       "      <td>1.670632</td>\n",
       "    </tr>\n",
       "    <tr>\n",
       "      <th>3779</th>\n",
       "      <td>45</td>\n",
       "      <td>90</td>\n",
       "      <td>1.685245</td>\n",
       "    </tr>\n",
       "    <tr>\n",
       "      <th>4168</th>\n",
       "      <td>52</td>\n",
       "      <td>87</td>\n",
       "      <td>1.665299</td>\n",
       "    </tr>\n",
       "    <tr>\n",
       "      <th>4680</th>\n",
       "      <td>63</td>\n",
       "      <td>82</td>\n",
       "      <td>1.401015</td>\n",
       "    </tr>\n",
       "    <tr>\n",
       "      <th>4805</th>\n",
       "      <td>66</td>\n",
       "      <td>87</td>\n",
       "      <td>1.260876</td>\n",
       "    </tr>\n",
       "    <tr>\n",
       "      <th>5396</th>\n",
       "      <td>87</td>\n",
       "      <td>90</td>\n",
       "      <td>1.694020</td>\n",
       "    </tr>\n",
       "  </tbody>\n",
       "</table>\n",
       "</div>"
      ],
      "text/plain": [
       "       0    1         2\n",
       "17     0   18  1.618533\n",
       "313    3    5  1.674739\n",
       "380    3   72  1.501238\n",
       "383    3   75  1.511286\n",
       "1166  11   78  1.680856\n",
       "1208  12   27  1.499014\n",
       "1323  13   50  1.685757\n",
       "1336  13   63  1.494403\n",
       "1373  13  100  1.432828\n",
       "2014  21   41  1.628571\n",
       "2026  21   53  1.403061\n",
       "2633  28  100  1.670632\n",
       "3779  45   90  1.685245\n",
       "4168  52   87  1.665299\n",
       "4680  63   82  1.401015\n",
       "4805  66   87  1.260876\n",
       "5396  87   90  1.694020"
      ]
     },
     "execution_count": 46,
     "metadata": {},
     "output_type": "execute_result"
    }
   ],
   "source": [
    "# get similar combinations list\n",
    "std_fm = np.std(vect_comb[:,2])\n",
    "mean_fm = np.mean(vect_comb[:,2])\n",
    "print('MEAN: %.2f, STD: %.2f' % (mean_fm, std_fm)))\n",
    "\n",
    "fm_df = pd.DataFrame(vect_comb[:,:])\n",
    "fm_df.dtypes\n",
    "fm_df[[0,1]] = fm_df[[0,1]].astype(int)\n",
    "comb_similar = fm_df.loc[fm_df[2] <  (mean_fm-2.5*std_fm)]\n",
    "comb_similar.shape\n",
    "comb_similar\n",
    "# np.unique(comb_similar[0:2])"
   ]
  },
  {
   "cell_type": "code",
   "execution_count": 119,
   "metadata": {
    "collapsed": false
   },
   "outputs": [
    {
     "data": {
      "text/plain": [
       "1.7326879335456939"
      ]
     },
     "execution_count": 119,
     "metadata": {},
     "output_type": "execute_result"
    }
   ],
   "source": [
    "mean_fm-2.5*std_fm"
   ]
  },
  {
   "cell_type": "code",
   "execution_count": 48,
   "metadata": {
    "collapsed": true
   },
   "outputs": [
    {
     "data": {
      "text/html": [
       "<div>\n",
       "<table border=\"1\" class=\"dataframe\">\n",
       "  <thead>\n",
       "    <tr style=\"text-align: right;\">\n",
       "      <th></th>\n",
       "      <th>0</th>\n",
       "      <th>1</th>\n",
       "      <th>2</th>\n",
       "    </tr>\n",
       "  </thead>\n",
       "  <tbody>\n",
       "    <tr>\n",
       "      <th>17</th>\n",
       "      <td>0</td>\n",
       "      <td>18</td>\n",
       "      <td>1.618533</td>\n",
       "    </tr>\n",
       "    <tr>\n",
       "      <th>319</th>\n",
       "      <td>3</td>\n",
       "      <td>5</td>\n",
       "      <td>1.674739</td>\n",
       "    </tr>\n",
       "    <tr>\n",
       "      <th>386</th>\n",
       "      <td>3</td>\n",
       "      <td>72</td>\n",
       "      <td>1.501238</td>\n",
       "    </tr>\n",
       "    <tr>\n",
       "      <th>389</th>\n",
       "      <td>3</td>\n",
       "      <td>75</td>\n",
       "      <td>1.511286</td>\n",
       "    </tr>\n",
       "    <tr>\n",
       "      <th>528</th>\n",
       "      <td>5</td>\n",
       "      <td>3</td>\n",
       "      <td>1.674739</td>\n",
       "    </tr>\n",
       "    <tr>\n",
       "      <th>1232</th>\n",
       "      <td>11</td>\n",
       "      <td>78</td>\n",
       "      <td>1.680856</td>\n",
       "    </tr>\n",
       "    <tr>\n",
       "      <th>1286</th>\n",
       "      <td>12</td>\n",
       "      <td>27</td>\n",
       "      <td>1.499014</td>\n",
       "    </tr>\n",
       "    <tr>\n",
       "      <th>1414</th>\n",
       "      <td>13</td>\n",
       "      <td>50</td>\n",
       "      <td>1.685757</td>\n",
       "    </tr>\n",
       "    <tr>\n",
       "      <th>1427</th>\n",
       "      <td>13</td>\n",
       "      <td>63</td>\n",
       "      <td>1.494403</td>\n",
       "    </tr>\n",
       "    <tr>\n",
       "      <th>1464</th>\n",
       "      <td>13</td>\n",
       "      <td>100</td>\n",
       "      <td>1.432828</td>\n",
       "    </tr>\n",
       "    <tr>\n",
       "      <th>1890</th>\n",
       "      <td>18</td>\n",
       "      <td>0</td>\n",
       "      <td>1.618533</td>\n",
       "    </tr>\n",
       "    <tr>\n",
       "      <th>2245</th>\n",
       "      <td>21</td>\n",
       "      <td>41</td>\n",
       "      <td>1.628571</td>\n",
       "    </tr>\n",
       "    <tr>\n",
       "      <th>2257</th>\n",
       "      <td>21</td>\n",
       "      <td>53</td>\n",
       "      <td>1.403061</td>\n",
       "    </tr>\n",
       "    <tr>\n",
       "      <th>2847</th>\n",
       "      <td>27</td>\n",
       "      <td>12</td>\n",
       "      <td>1.499014</td>\n",
       "    </tr>\n",
       "    <tr>\n",
       "      <th>3039</th>\n",
       "      <td>28</td>\n",
       "      <td>100</td>\n",
       "      <td>1.670632</td>\n",
       "    </tr>\n",
       "    <tr>\n",
       "      <th>4326</th>\n",
       "      <td>41</td>\n",
       "      <td>21</td>\n",
       "      <td>1.628571</td>\n",
       "    </tr>\n",
       "    <tr>\n",
       "      <th>4814</th>\n",
       "      <td>45</td>\n",
       "      <td>90</td>\n",
       "      <td>1.685245</td>\n",
       "    </tr>\n",
       "    <tr>\n",
       "      <th>5263</th>\n",
       "      <td>50</td>\n",
       "      <td>13</td>\n",
       "      <td>1.685757</td>\n",
       "    </tr>\n",
       "    <tr>\n",
       "      <th>5546</th>\n",
       "      <td>52</td>\n",
       "      <td>87</td>\n",
       "      <td>1.665299</td>\n",
       "    </tr>\n",
       "    <tr>\n",
       "      <th>5586</th>\n",
       "      <td>53</td>\n",
       "      <td>21</td>\n",
       "      <td>1.403061</td>\n",
       "    </tr>\n",
       "    <tr>\n",
       "      <th>6628</th>\n",
       "      <td>63</td>\n",
       "      <td>13</td>\n",
       "      <td>1.494403</td>\n",
       "    </tr>\n",
       "    <tr>\n",
       "      <th>6696</th>\n",
       "      <td>63</td>\n",
       "      <td>82</td>\n",
       "      <td>1.401015</td>\n",
       "    </tr>\n",
       "    <tr>\n",
       "      <th>7016</th>\n",
       "      <td>66</td>\n",
       "      <td>87</td>\n",
       "      <td>1.260876</td>\n",
       "    </tr>\n",
       "    <tr>\n",
       "      <th>7563</th>\n",
       "      <td>72</td>\n",
       "      <td>3</td>\n",
       "      <td>1.501238</td>\n",
       "    </tr>\n",
       "    <tr>\n",
       "      <th>7878</th>\n",
       "      <td>75</td>\n",
       "      <td>3</td>\n",
       "      <td>1.511286</td>\n",
       "    </tr>\n",
       "    <tr>\n",
       "      <th>8201</th>\n",
       "      <td>78</td>\n",
       "      <td>11</td>\n",
       "      <td>1.680856</td>\n",
       "    </tr>\n",
       "    <tr>\n",
       "      <th>8673</th>\n",
       "      <td>82</td>\n",
       "      <td>63</td>\n",
       "      <td>1.401015</td>\n",
       "    </tr>\n",
       "    <tr>\n",
       "      <th>9187</th>\n",
       "      <td>87</td>\n",
       "      <td>52</td>\n",
       "      <td>1.665299</td>\n",
       "    </tr>\n",
       "    <tr>\n",
       "      <th>9201</th>\n",
       "      <td>87</td>\n",
       "      <td>66</td>\n",
       "      <td>1.260876</td>\n",
       "    </tr>\n",
       "    <tr>\n",
       "      <th>9224</th>\n",
       "      <td>87</td>\n",
       "      <td>90</td>\n",
       "      <td>1.694020</td>\n",
       "    </tr>\n",
       "    <tr>\n",
       "      <th>9495</th>\n",
       "      <td>90</td>\n",
       "      <td>45</td>\n",
       "      <td>1.685245</td>\n",
       "    </tr>\n",
       "    <tr>\n",
       "      <th>9537</th>\n",
       "      <td>90</td>\n",
       "      <td>87</td>\n",
       "      <td>1.694020</td>\n",
       "    </tr>\n",
       "    <tr>\n",
       "      <th>10513</th>\n",
       "      <td>100</td>\n",
       "      <td>13</td>\n",
       "      <td>1.432828</td>\n",
       "    </tr>\n",
       "    <tr>\n",
       "      <th>10528</th>\n",
       "      <td>100</td>\n",
       "      <td>28</td>\n",
       "      <td>1.670632</td>\n",
       "    </tr>\n",
       "  </tbody>\n",
       "</table>\n",
       "</div>"
      ],
      "text/plain": [
       "         0    1         2\n",
       "17       0   18  1.618533\n",
       "319      3    5  1.674739\n",
       "386      3   72  1.501238\n",
       "389      3   75  1.511286\n",
       "528      5    3  1.674739\n",
       "1232    11   78  1.680856\n",
       "1286    12   27  1.499014\n",
       "1414    13   50  1.685757\n",
       "1427    13   63  1.494403\n",
       "1464    13  100  1.432828\n",
       "1890    18    0  1.618533\n",
       "2245    21   41  1.628571\n",
       "2257    21   53  1.403061\n",
       "2847    27   12  1.499014\n",
       "3039    28  100  1.670632\n",
       "4326    41   21  1.628571\n",
       "4814    45   90  1.685245\n",
       "5263    50   13  1.685757\n",
       "5546    52   87  1.665299\n",
       "5586    53   21  1.403061\n",
       "6628    63   13  1.494403\n",
       "6696    63   82  1.401015\n",
       "7016    66   87  1.260876\n",
       "7563    72    3  1.501238\n",
       "7878    75    3  1.511286\n",
       "8201    78   11  1.680856\n",
       "8673    82   63  1.401015\n",
       "9187    87   52  1.665299\n",
       "9201    87   66  1.260876\n",
       "9224    87   90  1.694020\n",
       "9495    90   45  1.685245\n",
       "9537    90   87  1.694020\n",
       "10513  100   13  1.432828\n",
       "10528  100   28  1.670632"
      ]
     },
     "execution_count": 48,
     "metadata": {},
     "output_type": "execute_result"
    }
   ],
   "source": [
    "# get similar permutations list\n",
    "fm_df = pd.DataFrame(vect_perm[:,:])\n",
    "fm_df.dtypes\n",
    "fm_df[[0,1]] = fm_df[[0,1]].astype(int)\n",
    "perm_similar = fm_df.loc[fm_df[2] <  (mean_fm-2.5*std_fm)]\n",
    "perm_similar.shape\n",
    "perm_similar\n",
    "# np.unique(comb_similar[0:2])"
   ]
  },
  {
   "cell_type": "code",
   "execution_count": 76,
   "metadata": {
    "collapsed": false
   },
   "outputs": [
    {
     "data": {
      "text/plain": [
       "13"
      ]
     },
     "execution_count": 76,
     "metadata": {},
     "output_type": "execute_result"
    }
   ],
   "source": [
    "type(perm_similar)\n",
    "perm_similar[0].unique()\n",
    "\n",
    "int(perm_similar[perm_similar[0] == 13].values[1, 0])\n",
    "\n",
    "unique_original_lst = perm_similar[0].unique()\n",
    "unique_original_lst[5]"
   ]
  },
  {
   "cell_type": "code",
   "execution_count": 121,
   "metadata": {
    "collapsed": false
   },
   "outputs": [],
   "source": [
    "# plt.imshow(udb.images[0])\n",
    "# plt.imshow(udb.images[1][0])\n",
    "def get_filename_lst(similar_df):\n",
    "    unique_original_lst = similar_df[0].unique()\n",
    "    filenames_lst = []\n",
    "    \n",
    "    for unique_idx in unique_original_lst:      \n",
    "        # similar indexes\n",
    "        original_idx = unique_idx\n",
    "#         print(original_idx)\n",
    "        similar_idxs = [int(i) for i in similar_df[similar_df[0] == unique_idx].values[:, 1] ]\n",
    "#         print(similar_idxs)\n",
    "        # similar filenames\n",
    "        similar_fnms_lst = [udb.img_filenames[original_idx]]\n",
    "        similar_fnms_lst.extend([udb.img_filenames[idx] for idx in similar_idxs] )\n",
    "#         print(similar_fnms_lst)\n",
    "\n",
    "        filenames_lst.append(similar_fnms_lst)\n",
    "    \n",
    "    return filenames_lst"
   ]
  },
  {
   "cell_type": "code",
   "execution_count": 122,
   "metadata": {
    "collapsed": false,
    "scrolled": true
   },
   "outputs": [
    {
     "ename": "NameError",
     "evalue": "global name 'filenames_lst' is not defined",
     "output_type": "error",
     "traceback": [
      "\u001b[0;31m---------------------------------------------------------------------------\u001b[0m",
      "\u001b[0;31mNameError\u001b[0m                                 Traceback (most recent call last)",
      "\u001b[0;32m<ipython-input-122-f44d27b850fe>\u001b[0m in \u001b[0;36m<module>\u001b[0;34m()\u001b[0m\n\u001b[0;32m----> 1\u001b[0;31m \u001b[0;32mprint\u001b[0m\u001b[0;34m(\u001b[0m\u001b[0mget_filename_lst\u001b[0m\u001b[0;34m(\u001b[0m\u001b[0mperm_similar\u001b[0m\u001b[0;34m)\u001b[0m\u001b[0;34m)\u001b[0m\u001b[0;34m\u001b[0m\u001b[0m\n\u001b[0m",
      "\u001b[0;32m<ipython-input-121-e2dd733e3ba1>\u001b[0m in \u001b[0;36mget_filename_lst\u001b[0;34m(similar_df)\u001b[0m\n\u001b[1;32m     16\u001b[0m \u001b[0;31m#         print(similar_fnms_lst)\u001b[0m\u001b[0;34m\u001b[0m\u001b[0;34m\u001b[0m\u001b[0m\n\u001b[1;32m     17\u001b[0m \u001b[0;34m\u001b[0m\u001b[0m\n\u001b[0;32m---> 18\u001b[0;31m         \u001b[0mfilenames_lst\u001b[0m\u001b[0;34m.\u001b[0m\u001b[0mappend\u001b[0m\u001b[0;34m(\u001b[0m\u001b[0msimilar_fnms_lst\u001b[0m\u001b[0;34m)\u001b[0m\u001b[0;34m\u001b[0m\u001b[0m\n\u001b[0m\u001b[1;32m     19\u001b[0m \u001b[0;34m\u001b[0m\u001b[0m\n\u001b[1;32m     20\u001b[0m     \u001b[0;32mreturn\u001b[0m \u001b[0mfilenames_lst\u001b[0m\u001b[0;34m\u001b[0m\u001b[0m\n",
      "\u001b[0;31mNameError\u001b[0m: global name 'filenames_lst' is not defined"
     ]
    }
   ],
   "source": [
    "print(get_filename_lst(perm_similar))\n"
   ]
  },
  {
   "cell_type": "code",
   "execution_count": 120,
   "metadata": {
    "collapsed": false
   },
   "outputs": [],
   "source": [
    "prev_fnm_lst = get_similar_img(perm_similar)\n",
    "\n",
    "for img_lst in prev_fnm_lst:\n",
    "    prev = Thumbnails(227, 2, 5)\n",
    "    prev.create_preview( img_lst )\n",
    "    prev.save_to_file('similar_to_' + img_lst[0] + '.png')"
   ]
  },
  {
   "cell_type": "code",
   "execution_count": null,
   "metadata": {
    "collapsed": true
   },
   "outputs": [],
   "source": []
  }
 ],
 "metadata": {
  "kernelspec": {
   "display_name": "Python 2",
   "language": "python2",
   "name": "python2"
  },
  "language_info": {
   "codemirror_mode": {
    "name": "ipython",
    "version": 2
   },
   "file_extension": ".py",
   "mimetype": "text/x-python",
   "name": "python",
   "nbconvert_exporter": "python",
   "pygments_lexer": "ipython2",
   "version": "2.7.12"
  }
 },
 "nbformat": 4,
 "nbformat_minor": 0
}
