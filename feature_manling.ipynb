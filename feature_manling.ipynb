{
 "cells": [
  {
   "cell_type": "code",
   "execution_count": 48,
   "metadata": {
    "collapsed": false
   },
   "outputs": [],
   "source": [
    "import cv2 as cv\n",
    "import matplotlib.pyplot as plt\n",
    "import numpy as np\n",
    "import os\n",
    "import pandas as pd\n",
    "from update_DB import Update_DB\n",
    "\n"
   ]
  },
  {
   "cell_type": "code",
   "execution_count": 3,
   "metadata": {
    "collapsed": false
   },
   "outputs": [
    {
     "name": "stdout",
     "output_type": "stream",
     "text": [
      "1000\n",
      "(106, 1000)\n"
     ]
    }
   ],
   "source": [
    "udb = Update_DB()\n",
    "udb.preprocess_data()\n",
    "fm = udb.get_features('fc8')\n",
    "print(fm.shape)"
   ]
  },
  {
   "cell_type": "code",
   "execution_count": 36,
   "metadata": {
    "collapsed": false
   },
   "outputs": [
    {
     "name": "stdout",
     "output_type": "stream",
     "text": [
      "106\n",
      "5565\n",
      "0.654255887321\n",
      "3.37039176225\n"
     ]
    }
   ],
   "source": [
    "import itertools\n",
    "\n",
    "num_img = fm.shape[0]\n",
    "print(num_img)\n",
    "# number of possible combinations \n",
    "# TODO: why -num_img\n",
    "num_comb = (num_img)*(num_img-1)/2\n",
    "print(num_comb)\n",
    "\n",
    "vect_comb = np.zeros([num_comb,3])\n",
    "for i, comb in enumerate(itertools.combinations(np.arange(num_img), 2)):\n",
    "    vect_comb[i,0:2] = np.array(comb)\n",
    "    vect_comb[i,2]   = np.sqrt(np.mean((fm[comb[0],:]-fm[comb[1],:])**2))\n",
    "\n",
    "\n",
    "std_fm = np.std(vect_comb[:,2])\n",
    "print(std_fm)\n",
    "print(np.mean(vect_comb[:,2]))\n",
    "vect_comb[num_comb-10:num_comb,:]\n",
    "type(vect_comb)\n",
    "vect_comb[:,2][:].shape\n",
    "f, (ax1, ax2) = plt.subplots(1, 2)\n",
    "ax1.plot(vect_comb[:,2][:])\n",
    "ax2.boxplot(vect_comb[:,2][:])\n",
    "plt.show()\n"
   ]
  },
  {
   "cell_type": "code",
   "execution_count": 46,
   "metadata": {
    "collapsed": false
   },
   "outputs": [
    {
     "name": "stdout",
     "output_type": "stream",
     "text": [
      "0.654255887321\n",
      "3.37039176225\n"
     ]
    },
    {
     "data": {
      "text/plain": [
       "array([  1.40012495,   1.6799011 ,   4.        ,   9.        ,\n",
       "        10.        ,  38.        ])"
      ]
     },
     "execution_count": 46,
     "metadata": {},
     "output_type": "execute_result"
    }
   ],
   "source": [
    "std_fm = np.std(vect_comb[:,2])\n",
    "mean_fm = np.mean(vect_comb[:,2])\n",
    "print(std_fm)\n",
    "print(np.mean(vect_comb[:,2]))\n",
    "vect_comb\n",
    "fm_df = pd.DataFrame(vect_comb[:,:])\n",
    "fm_df.dtypes\n",
    "fm_df[[0,1]] = fm_df[[0,1]].astype(int)\n",
    "comb_similar = fm_df.loc[fm_df[2] <  (mean_fm-2.5*std_fm)]\n",
    "comb_similar.shape\n",
    "comb_similar\n",
    "np.unique(comb_similar[0:2])"
   ]
  }
 ],
 "metadata": {
  "kernelspec": {
   "display_name": "Python 2",
   "language": "python2",
   "name": "python2"
  },
  "language_info": {
   "codemirror_mode": {
    "name": "ipython",
    "version": 2
   },
   "file_extension": ".py",
   "mimetype": "text/x-python",
   "name": "python",
   "nbconvert_exporter": "python",
   "pygments_lexer": "ipython2",
   "version": "2.7.12"
  }
 },
 "nbformat": 4,
 "nbformat_minor": 0
}
