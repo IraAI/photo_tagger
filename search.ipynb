{
 "cells": [
  {
   "cell_type": "code",
   "execution_count": 1,
   "metadata": {
    "collapsed": false
   },
   "outputs": [],
   "source": [
    "import os\n",
    "\n",
    "from query import Query"
   ]
  },
  {
   "cell_type": "code",
   "execution_count": 2,
   "metadata": {
    "collapsed": false
   },
   "outputs": [
    {
     "name": "stdout",
     "output_type": "stream",
     "text": [
      "                           img      act_class\n",
      "0       IMG_9978070570836.jpeg  shopping cart\n",
      "50  IMG_20141206_144523810.jpg    freight car\n"
     ]
    }
   ],
   "source": [
    "# get path to csv db\n",
    "global_path = os.getcwd()\n",
    "csv_path = os.path.join(global_path,'action.csv')\n",
    "# print(csv_path)\n",
    "\n",
    "# create query\n",
    "query_1 = Query(db_path=csv_path)\n",
    "query_1.get('ShoPping,!!! car')\n",
    "# query_1.get(1234)\n",
    "query_1.view_result()"
   ]
  },
  {
   "cell_type": "markdown",
   "metadata": {},
   "source": [
    "-------------------"
   ]
  },
  {
   "cell_type": "code",
   "execution_count": 120,
   "metadata": {
    "collapsed": false
   },
   "outputs": [
    {
     "data": {
      "text/plain": [
       "['Shopping', 'cart', 'not', 'not']"
      ]
     },
     "execution_count": 120,
     "metadata": {},
     "output_type": "execute_result"
    }
   ],
   "source": [
    "s = 'Shopping,!!! ***cart notasdfasdnot'\n",
    "\n",
    "pattern = re.compile(r'cart | shopping | add | not', flags=re.I | re.X)\n",
    "pattern.findall(s)"
   ]
  },
  {
   "cell_type": "code",
   "execution_count": 35,
   "metadata": {
    "collapsed": false
   },
   "outputs": [],
   "source": [
    "work_dir = os.getcwd()\n",
    "\n",
    "df = pd.read_csv(os.path.join(work_dir,'action.csv'), sep=';')#, usecols=['img', 'act_class'])"
   ]
  },
  {
   "cell_type": "code",
   "execution_count": 89,
   "metadata": {
    "collapsed": false
   },
   "outputs": [
    {
     "data": {
      "text/html": [
       "<div>\n",
       "<table border=\"1\" class=\"dataframe\">\n",
       "  <thead>\n",
       "    <tr style=\"text-align: right;\">\n",
       "      <th></th>\n",
       "      <th>img</th>\n",
       "      <th>act_class</th>\n",
       "    </tr>\n",
       "  </thead>\n",
       "  <tbody>\n",
       "    <tr>\n",
       "      <th>0</th>\n",
       "      <td>IMG_9978070570836.jpeg</td>\n",
       "      <td>shopping cart</td>\n",
       "    </tr>\n",
       "    <tr>\n",
       "      <th>1</th>\n",
       "      <td>Screenshot_2016-07-20-11-33-43.png</td>\n",
       "      <td>gibbon, Hylobates lar</td>\n",
       "    </tr>\n",
       "    <tr>\n",
       "      <th>2</th>\n",
       "      <td>2016-07-08 20.22.19.jpg</td>\n",
       "      <td>space heater</td>\n",
       "    </tr>\n",
       "    <tr>\n",
       "      <th>3</th>\n",
       "      <td>2016-06-24 17.46.44.jpg</td>\n",
       "      <td>tarantula</td>\n",
       "    </tr>\n",
       "    <tr>\n",
       "      <th>4</th>\n",
       "      <td>2016-05-29 22.47.55.jpg</td>\n",
       "      <td>seat belt, seatbelt</td>\n",
       "    </tr>\n",
       "  </tbody>\n",
       "</table>\n",
       "</div>"
      ],
      "text/plain": [
       "                                  img              act_class\n",
       "0              IMG_9978070570836.jpeg          shopping cart\n",
       "1  Screenshot_2016-07-20-11-33-43.png  gibbon, Hylobates lar\n",
       "2             2016-07-08 20.22.19.jpg           space heater\n",
       "3             2016-06-24 17.46.44.jpg              tarantula\n",
       "4             2016-05-29 22.47.55.jpg    seat belt, seatbelt"
      ]
     },
     "execution_count": 89,
     "metadata": {},
     "output_type": "execute_result"
    }
   ],
   "source": [
    "df.head()\n"
   ]
  },
  {
   "cell_type": "code",
   "execution_count": null,
   "metadata": {
    "collapsed": true
   },
   "outputs": [],
   "source": []
  }
 ],
 "metadata": {
  "kernelspec": {
   "display_name": "Python [LvCSSS]",
   "language": "python",
   "name": "Python [LvCSSS]"
  },
  "language_info": {
   "codemirror_mode": {
    "name": "ipython",
    "version": 2
   },
   "file_extension": ".py",
   "mimetype": "text/x-python",
   "name": "python",
   "nbconvert_exporter": "python",
   "pygments_lexer": "ipython2",
   "version": "2.7.12"
  }
 },
 "nbformat": 4,
 "nbformat_minor": 0
}
