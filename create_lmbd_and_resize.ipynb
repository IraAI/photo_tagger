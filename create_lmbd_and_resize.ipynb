{
 "cells": [
  {
   "cell_type": "code",
   "execution_count": 72,
   "metadata": {
    "collapsed": false
   },
   "outputs": [
    {
     "name": "stdout",
     "output_type": "stream",
     "text": [
      "/home/sam/photo_taggers\n"
     ]
    }
   ],
   "source": [
    "import os\n",
    "import random as r\n",
    "import numpy as np\n",
    "import pandas as pd\n",
    "import cv2\n",
    "image_dir = os.path.abspath('image_data/images')\n",
    "root_dir  = os.path.abspath('.')\n",
    "print root_dir"
   ]
  },
  {
   "cell_type": "code",
   "execution_count": 73,
   "metadata": {
    "collapsed": false,
    "scrolled": true
   },
   "outputs": [],
   "source": [
    "img_height = 256\n",
    "img_width  = 256\n",
    "\n",
    "image_list = pd.read_csv(os.path.join(root_dir,'actions.csv'))\n",
    "#image_list.head(20)"
   ]
  },
  {
   "cell_type": "code",
   "execution_count": 74,
   "metadata": {
    "collapsed": true
   },
   "outputs": [],
   "source": [
    "np.random.seed(112)\n",
    "#help(image_list.dropna)\n",
    "image_list_clean = image_list.dropna()\n",
    "#image_list_clean.head(20)\n",
    "image_list_shuffle = image_list_clean.reindex(np.random.permutation(image_list_clean.index))\n",
    "# print(image_list_shuffle.head(20))\n",
    "\n",
    "#print(image_list_shuffle[image_list_shuffle.img == '029122914.jpg'])"
   ]
  },
  {
   "cell_type": "code",
   "execution_count": 76,
   "metadata": {
    "collapsed": false
   },
   "outputs": [
    {
     "name": "stdout",
     "output_type": "stream",
     "text": [
      "img             069530811.jpg\n",
      "act_class       music playing\n",
      "act_name     trumpet standing\n",
      "Name: 20124, dtype: object\n",
      "069530811.jpg\n",
      "img                 002749333.jpg\n",
      "act_class         home activities\n",
      "act_name     playing with animals\n",
      "Name: 24226, dtype: object\n",
      "002749333.jpg\n",
      "img              041682650.jpg\n",
      "act_class            bicycling\n",
      "act_name     bicycling general\n",
      "Name: 23431, dtype: object\n",
      "041682650.jpg\n",
      "img                                              096716406.jpg\n",
      "act_class                                        miscellaneous\n",
      "act_name     sitting in class general including note-taking...\n",
      "Name: 18409, dtype: object\n",
      "096716406.jpg\n",
      "img              065974443.jpg\n",
      "act_class    winter activities\n",
      "act_name          dog sledding\n",
      "Name: 20868, dtype: object\n",
      "065974443.jpg\n"
     ]
    },
    {
     "ename": "KeyboardInterrupt",
     "evalue": "",
     "output_type": "error",
     "traceback": [
      "\u001b[1;31m---------------------------------------------------------------------------\u001b[0m",
      "\u001b[1;31mKeyboardInterrupt\u001b[0m                         Traceback (most recent call last)",
      "\u001b[1;32m<ipython-input-76-3eefba4b815a>\u001b[0m in \u001b[0;36m<module>\u001b[1;34m()\u001b[0m\n\u001b[0;32m     16\u001b[0m         \u001b[0mimg_target\u001b[0m \u001b[1;33m=\u001b[0m \u001b[0mos\u001b[0m\u001b[1;33m.\u001b[0m\u001b[0mpath\u001b[0m\u001b[1;33m.\u001b[0m\u001b[0mjoin\u001b[0m\u001b[1;33m(\u001b[0m\u001b[0mimage_dir\u001b[0m\u001b[1;33m,\u001b[0m \u001b[1;34m'val'\u001b[0m\u001b[1;33m,\u001b[0m \u001b[0mrow\u001b[0m\u001b[1;33m.\u001b[0m\u001b[0mimg\u001b[0m\u001b[1;33m)\u001b[0m\u001b[1;33m\u001b[0m\u001b[0m\n\u001b[0;32m     17\u001b[0m \u001b[1;33m\u001b[0m\u001b[0m\n\u001b[1;32m---> 18\u001b[1;33m     \u001b[0mimg\u001b[0m \u001b[1;33m=\u001b[0m \u001b[0mcv2\u001b[0m\u001b[1;33m.\u001b[0m\u001b[0mimread\u001b[0m\u001b[1;33m(\u001b[0m\u001b[0mos\u001b[0m\u001b[1;33m.\u001b[0m\u001b[0mpath\u001b[0m\u001b[1;33m.\u001b[0m\u001b[0mjoin\u001b[0m\u001b[1;33m(\u001b[0m\u001b[0mimage_dir\u001b[0m\u001b[1;33m,\u001b[0m \u001b[0mrow\u001b[0m\u001b[1;33m.\u001b[0m\u001b[0mimg\u001b[0m\u001b[1;33m)\u001b[0m\u001b[1;33m)\u001b[0m\u001b[1;33m\u001b[0m\u001b[0m\n\u001b[0m\u001b[0;32m     19\u001b[0m     \u001b[0mimg\u001b[0m \u001b[1;33m=\u001b[0m \u001b[0mcv2\u001b[0m\u001b[1;33m.\u001b[0m\u001b[0mresize\u001b[0m\u001b[1;33m(\u001b[0m\u001b[0mimg\u001b[0m\u001b[1;33m,\u001b[0m \u001b[1;33m(\u001b[0m\u001b[0mimg_height\u001b[0m\u001b[1;33m,\u001b[0m \u001b[0mimg_width\u001b[0m\u001b[1;33m)\u001b[0m\u001b[1;33m)\u001b[0m\u001b[1;33m\u001b[0m\u001b[0m\n\u001b[0;32m     20\u001b[0m     \u001b[0mcv2\u001b[0m\u001b[1;33m.\u001b[0m\u001b[0mimwrite\u001b[0m\u001b[1;33m(\u001b[0m\u001b[0mimg_target\u001b[0m\u001b[1;33m,\u001b[0m \u001b[0mimg\u001b[0m\u001b[1;33m)\u001b[0m\u001b[1;33m\u001b[0m\u001b[0m\n",
      "\u001b[1;31mKeyboardInterrupt\u001b[0m: "
     ]
    }
   ],
   "source": [
    "# we need the iterator for testing and showing progress while running\n",
    "i = 0\n",
    "# this row number seperates the training images from the validation images\n",
    "train_val_sep = int(len(image_list_shuffle)*0.8)\n",
    "\n",
    "# map for image filename and class value\n",
    "f_train = open(os.path.join(root_dir, 'train_lst.txt'), 'w')\n",
    "f_val   = open(os.path.join(root_dir, 'val_lst.txt'), 'w')\n",
    "\n",
    "for index, row in image_list_shuffle.iterrows():\n",
    "    if i < 10 or (i > train_val_sep and i < train_val_sep+10):\n",
    "        print(i)\n",
    "        \n",
    "        # input line for map files see abov\n",
    "        txt_input = row.img + ' ' + row.act_class + '\\n'\n",
    "        \n",
    "        if (i < train_val_sep):\n",
    "            f_train.write(txt_input)\n",
    "            img_target = os.path.join(image_dir, 'train', row.img)\n",
    "        else:\n",
    "            f_val.write(txt_input)\n",
    "            img_target = os.path.join(image_dir, 'val', row.img)\n",
    "        \n",
    "        # resize and move image into right folder \n",
    "        img = cv2.imread(os.path.join(image_dir, row.img))\n",
    "        img = cv2.resize(img, (img_height, img_width))\n",
    "        cv2.imwrite(img_target, img)\n",
    "    \n",
    "    i = i + 1\n",
    "#print(image_list_shuffle.iloc[1:10,:])"
   ]
  },
  {
   "cell_type": "code",
   "execution_count": 70,
   "metadata": {
    "collapsed": false
   },
   "outputs": [
    {
     "name": "stdout",
     "output_type": "stream",
     "text": [
      "/home/sam/photo_taggers/image_data/images/val/040956093.jpg\n"
     ]
    }
   ],
   "source": [
    "print(os.path.join(image_dir, 'val', row.img))"
   ]
  }
 ],
 "metadata": {
  "kernelspec": {
   "display_name": "Python 2",
   "language": "python2",
   "name": "python2"
  },
  "language_info": {
   "codemirror_mode": {
    "name": "ipython",
    "version": 2
   },
   "file_extension": ".py",
   "mimetype": "text/x-python",
   "name": "python",
   "nbconvert_exporter": "python",
   "pygments_lexer": "ipython2",
   "version": "2.7.12"
  }
 },
 "nbformat": 4,
 "nbformat_minor": 0
}
