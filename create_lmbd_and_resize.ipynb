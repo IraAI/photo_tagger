{
 "cells": [
  {
   "cell_type": "code",
   "execution_count": 23,
   "metadata": {
    "collapsed": false
   },
   "outputs": [
    {
     "name": "stdout",
     "output_type": "stream",
     "text": [
      "/home/sam/photo_taggers\n"
     ]
    }
   ],
   "source": [
    "import os\n",
    "import random as r\n",
    "import numpy as np\n",
    "import pandas as pd\n",
    "image_dir = os.path.abspath('image_data/images')\n",
    "root_dir  = os.path.abspath('.')\n",
    "print root_dir"
   ]
  },
  {
   "cell_type": "code",
   "execution_count": 21,
   "metadata": {
    "collapsed": false,
    "scrolled": true
   },
   "outputs": [
    {
     "data": {
      "text/html": [
       "<div>\n",
       "<table border=\"1\" class=\"dataframe\">\n",
       "  <thead>\n",
       "    <tr style=\"text-align: right;\">\n",
       "      <th></th>\n",
       "      <th>img</th>\n",
       "      <th>act_class</th>\n",
       "      <th>act_name</th>\n",
       "    </tr>\n",
       "  </thead>\n",
       "  <tbody>\n",
       "    <tr>\n",
       "      <th>0</th>\n",
       "      <td>037454012.jpg</td>\n",
       "      <td>NaN</td>\n",
       "      <td>NaN</td>\n",
       "    </tr>\n",
       "    <tr>\n",
       "      <th>1</th>\n",
       "      <td>095071431.jpg</td>\n",
       "      <td>NaN</td>\n",
       "      <td>NaN</td>\n",
       "    </tr>\n",
       "    <tr>\n",
       "      <th>2</th>\n",
       "      <td>073199394.jpg</td>\n",
       "      <td>NaN</td>\n",
       "      <td>NaN</td>\n",
       "    </tr>\n",
       "    <tr>\n",
       "      <th>3</th>\n",
       "      <td>059865848.jpg</td>\n",
       "      <td>NaN</td>\n",
       "      <td>NaN</td>\n",
       "    </tr>\n",
       "    <tr>\n",
       "      <th>4</th>\n",
       "      <td>015601864.jpg</td>\n",
       "      <td>sports</td>\n",
       "      <td>curling</td>\n",
       "    </tr>\n",
       "    <tr>\n",
       "      <th>5</th>\n",
       "      <td>015599452.jpg</td>\n",
       "      <td>sports</td>\n",
       "      <td>curling</td>\n",
       "    </tr>\n",
       "    <tr>\n",
       "      <th>6</th>\n",
       "      <td>005808361.jpg</td>\n",
       "      <td>sports</td>\n",
       "      <td>curling</td>\n",
       "    </tr>\n",
       "    <tr>\n",
       "      <th>7</th>\n",
       "      <td>086617615.jpg</td>\n",
       "      <td>sports</td>\n",
       "      <td>curling</td>\n",
       "    </tr>\n",
       "    <tr>\n",
       "      <th>8</th>\n",
       "      <td>060111501.jpg</td>\n",
       "      <td>sports</td>\n",
       "      <td>curling</td>\n",
       "    </tr>\n",
       "    <tr>\n",
       "      <th>9</th>\n",
       "      <td>070807258.jpg</td>\n",
       "      <td>sports</td>\n",
       "      <td>curling</td>\n",
       "    </tr>\n",
       "    <tr>\n",
       "      <th>10</th>\n",
       "      <td>002058449.jpg</td>\n",
       "      <td>sports</td>\n",
       "      <td>curling</td>\n",
       "    </tr>\n",
       "    <tr>\n",
       "      <th>11</th>\n",
       "      <td>096990985.jpg</td>\n",
       "      <td>NaN</td>\n",
       "      <td>NaN</td>\n",
       "    </tr>\n",
       "    <tr>\n",
       "      <th>12</th>\n",
       "      <td>083244264.jpg</td>\n",
       "      <td>NaN</td>\n",
       "      <td>NaN</td>\n",
       "    </tr>\n",
       "    <tr>\n",
       "      <th>13</th>\n",
       "      <td>021233911.jpg</td>\n",
       "      <td>inactivity quiet/light</td>\n",
       "      <td>sitting quietly</td>\n",
       "    </tr>\n",
       "    <tr>\n",
       "      <th>14</th>\n",
       "      <td>018182497.jpg</td>\n",
       "      <td>inactivity quiet/light</td>\n",
       "      <td>sitting quietly</td>\n",
       "    </tr>\n",
       "    <tr>\n",
       "      <th>15</th>\n",
       "      <td>018340451.jpg</td>\n",
       "      <td>miscellaneous</td>\n",
       "      <td>sitting talking in person on the phone compute...</td>\n",
       "    </tr>\n",
       "    <tr>\n",
       "      <th>16</th>\n",
       "      <td>030424224.jpg</td>\n",
       "      <td>miscellaneous</td>\n",
       "      <td>sitting talking in person on the phone compute...</td>\n",
       "    </tr>\n",
       "    <tr>\n",
       "      <th>17</th>\n",
       "      <td>052475643.jpg</td>\n",
       "      <td>miscellaneous</td>\n",
       "      <td>sitting talking in person on the phone compute...</td>\n",
       "    </tr>\n",
       "    <tr>\n",
       "      <th>18</th>\n",
       "      <td>043194502.jpg</td>\n",
       "      <td>miscellaneous</td>\n",
       "      <td>sitting talking in person on the phone compute...</td>\n",
       "    </tr>\n",
       "    <tr>\n",
       "      <th>19</th>\n",
       "      <td>029122914.jpg</td>\n",
       "      <td>occupation</td>\n",
       "      <td>truck driving loading and unloading truck tyin...</td>\n",
       "    </tr>\n",
       "  </tbody>\n",
       "</table>\n",
       "</div>"
      ],
      "text/plain": [
       "              img               act_class  \\\n",
       "0   037454012.jpg                     NaN   \n",
       "1   095071431.jpg                     NaN   \n",
       "2   073199394.jpg                     NaN   \n",
       "3   059865848.jpg                     NaN   \n",
       "4   015601864.jpg                  sports   \n",
       "5   015599452.jpg                  sports   \n",
       "6   005808361.jpg                  sports   \n",
       "7   086617615.jpg                  sports   \n",
       "8   060111501.jpg                  sports   \n",
       "9   070807258.jpg                  sports   \n",
       "10  002058449.jpg                  sports   \n",
       "11  096990985.jpg                     NaN   \n",
       "12  083244264.jpg                     NaN   \n",
       "13  021233911.jpg  inactivity quiet/light   \n",
       "14  018182497.jpg  inactivity quiet/light   \n",
       "15  018340451.jpg           miscellaneous   \n",
       "16  030424224.jpg           miscellaneous   \n",
       "17  052475643.jpg           miscellaneous   \n",
       "18  043194502.jpg           miscellaneous   \n",
       "19  029122914.jpg              occupation   \n",
       "\n",
       "                                             act_name  \n",
       "0                                                 NaN  \n",
       "1                                                 NaN  \n",
       "2                                                 NaN  \n",
       "3                                                 NaN  \n",
       "4                                             curling  \n",
       "5                                             curling  \n",
       "6                                             curling  \n",
       "7                                             curling  \n",
       "8                                             curling  \n",
       "9                                             curling  \n",
       "10                                            curling  \n",
       "11                                                NaN  \n",
       "12                                                NaN  \n",
       "13                                    sitting quietly  \n",
       "14                                    sitting quietly  \n",
       "15  sitting talking in person on the phone compute...  \n",
       "16  sitting talking in person on the phone compute...  \n",
       "17  sitting talking in person on the phone compute...  \n",
       "18  sitting talking in person on the phone compute...  \n",
       "19  truck driving loading and unloading truck tyin...  "
      ]
     },
     "execution_count": 21,
     "metadata": {},
     "output_type": "execute_result"
    }
   ],
   "source": [
    "image_list = pd.read_csv(os.path.join(root_dir,'actions.csv'))\n",
    "#image_list.head(20)"
   ]
  },
  {
   "cell_type": "code",
   "execution_count": 36,
   "metadata": {
    "collapsed": false
   },
   "outputs": [
    {
     "name": "stdout",
     "output_type": "stream",
     "text": [
      "img\n",
      "act_class\n",
      "act_name\n"
     ]
    }
   ],
   "source": [
    "#help(image_list.dropna)\n",
    "image_list_clean = image_list.dropna()\n",
    "#image_list_clean.head(20)\n",
    "image_list_shuffle = image_list_clean.reindex(np.random.permutation(image_list_clean.index))\n",
    "# print(image_list_shuffle.head(20))\n",
    "\n",
    "#print(image_list_shuffle[image_list_shuffle.img == '029122914.jpg'])\n",
    "for row in image_list_shuffle:\n",
    "    print(row)\n",
    "    \n",
    "#print(image_list_shuffle.iloc[1:10,:])"
   ]
  },
  {
   "cell_type": "code",
   "execution_count": 56,
   "metadata": {
    "collapsed": true
   },
   "outputs": [],
   "source": [
    "r.shuffle(ds)"
   ]
  },
  {
   "cell_type": "code",
   "execution_count": 57,
   "metadata": {
    "collapsed": false
   },
   "outputs": [
    {
     "data": {
      "text/plain": [
       "24268.800000000003"
      ]
     },
     "execution_count": 57,
     "metadata": {},
     "output_type": "execute_result"
    }
   ],
   "source": [
    "len(ds) * 0.8"
   ]
  },
  {
   "cell_type": "code",
   "execution_count": 58,
   "metadata": {
    "collapsed": false
   },
   "outputs": [],
   "source": [
    "with open(root_dir + '/../train_lst.txt', 'w') as f:\n",
    "    f.write(''.join(ds[:24172]))\n",
    "with open(root_dir + '/../test_lst.txt', 'w') as f:\n",
    "    f.write(''.join(ds[24172:]))\n",
    "f.close()\n"
   ]
  },
  {
   "cell_type": "code",
   "execution_count": null,
   "metadata": {
    "collapsed": true
   },
   "outputs": [],
   "source": []
  }
 ],
 "metadata": {
  "kernelspec": {
   "display_name": "Python 2",
   "language": "python2",
   "name": "python2"
  },
  "language_info": {
   "codemirror_mode": {
    "name": "ipython",
    "version": 2
   },
   "file_extension": ".py",
   "mimetype": "text/x-python",
   "name": "python",
   "nbconvert_exporter": "python",
   "pygments_lexer": "ipython2",
   "version": "2.7.12"
  }
 },
 "nbformat": 4,
 "nbformat_minor": 0
}
