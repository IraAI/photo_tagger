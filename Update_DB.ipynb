{
 "cells": [
  {
   "cell_type": "code",
   "execution_count": 1,
   "metadata": {
    "collapsed": false
   },
   "outputs": [
    {
     "name": "stdout",
     "output_type": "stream",
     "text": [
      "/home/mihailo/lviv-summer-school/kursevi/deep learning for computer vision/lvsc_scripts/scripts\n"
     ]
    }
   ],
   "source": [
    "import caffe\n",
    "import cv2 as cv\n",
    "import matplotlib.pyplot as plt\n",
    "import numpy as np\n",
    "import os\n",
    "\n",
    "%matplotlib inline\n",
    "plt.rcParams['figure.figsize'] = (10, 10)\n",
    "plt.rcParams['image.interpolation'] = 'nearest'\n",
    "\n",
    "# prj_root = '/home/oleksandr/prj/lvsc/'\n",
    "prj_root = os.getcwd()\n",
    "print(prj_root)"
   ]
  },
  {
   "cell_type": "code",
   "execution_count": null,
   "metadata": {
    "collapsed": true
   },
   "outputs": [],
   "source": [
    "# load model\n",
    "model_config = os.path.join(prj_root, 'models/bvlc_reference_caffenet/deploy.prototxt')\n",
    "model_weights = os.path.join(prj_root, 'results/bvlc_reference_caffenet/bvlc_reference_caffenet.caffemodel')\n",
    "\n",
    "net = caffe.Net(model_config, model_weights, caffe.TEST)\n",
    "net.blobs['data'].reshape(1, 3, 227, 227)"
   ]
  },
  {
   "cell_type": "code",
   "execution_count": null,
   "metadata": {
    "collapsed": true
   },
   "outputs": [],
   "source": [
    "labels_file = os.path.join(prj_root, 'data/imagenet/synset_words.txt')\n",
    "class_names = np.loadtxt(labels_file, str, delimiter='\\t')"
   ]
  },
  {
   "cell_type": "code",
   "execution_count": null,
   "metadata": {
    "collapsed": true
   },
   "outputs": [],
   "source": [
    "mean_vals = np.array([104.00698793, 116.66876762, 122.67891434])\n",
    "img_fn = os.path.join(prj_root, 'data/test/coffee-cup.jpg')\n",
    "# img_fn = os.path.join(prj_root, 'data/test/cat.jpg')\n",
    "img = cv.imread(img_fn)\n",
    "\n",
    "_ = plt.imshow(img[:, :, ::-1])\n",
    "\n",
    "img = cv.resize(img, (227,227))\n",
    "img = img.astype(float)\n",
    "img = img - mean_vals\n",
    "print img.shape # -> 227x227x3\n",
    "img = img.swapaxes(0, 2).swapaxes(1,2)\n",
    "print img.shape # -> 3x227x227\n",
    "\n",
    "net.blobs['data'].data[...] = img"
   ]
  },
  {
   "cell_type": "code",
   "execution_count": null,
   "metadata": {
    "collapsed": true
   },
   "outputs": [],
   "source": [
    "# forward pass\n",
    "res = net.forward()['prob'][0]\n",
    "print class_names[np.argmax(res)]"
   ]
  }
 ],
 "metadata": {
  "kernelspec": {
   "display_name": "Python 2",
   "language": "python",
   "name": "python2"
  },
  "language_info": {
   "codemirror_mode": {
    "name": "ipython",
    "version": 2
   },
   "file_extension": ".py",
   "mimetype": "text/x-python",
   "name": "python",
   "nbconvert_exporter": "python",
   "pygments_lexer": "ipython2",
   "version": "2.7.11+"
  }
 },
 "nbformat": 4,
 "nbformat_minor": 0
}
