{
 "cells": [
  {
   "cell_type": "code",
   "execution_count": 38,
   "metadata": {
    "collapsed": false
   },
   "outputs": [
    {
     "name": "stdout",
     "output_type": "stream",
     "text": [
      "/home/chip/LvCSSS/Project\n"
     ]
    }
   ],
   "source": [
    "import os\n",
    "import pickle\n",
    "\n",
    "import random as r\n",
    "import numpy as np\n",
    "import pandas as pd\n",
    "\n",
    "\n",
    "image_dir = os.path.abspath('image_data/images')\n",
    "root_dir  = os.path.abspath('.')\n",
    "print root_dir"
   ]
  },
  {
   "cell_type": "code",
   "execution_count": 44,
   "metadata": {
    "collapsed": false
   },
   "outputs": [
    {
     "name": "stdout",
     "output_type": "stream",
     "text": [
      "{0: 'miscellaneous', 1: 'conditioning exercise', 2: 'home activities', 3: 'lawn and garden', 4: 'occupation', 5: 'music playing', 6: 'sports', 7: 'dancing', 8: 'home repair', 9: 'winter activities', 10: 'inactivity quiet/light', 11: 'fishing and hunting', 12: 'walking', 13: 'self care', 14: 'bicycling', 15: 'water activities', 16: 'running', 17: 'religious activities', 18: 'transportation', 19: 'volunteer activities', 20: 13, 21: 10, 22: 16, 23: 4, 24: 15, 25: 17, 26: 9, 27: 14, 28: 19, 29: 7, 30: 5, 31: 8, 32: 6, 33: 18, 34: 0, 35: 1, 36: 2, 37: 3, 38: 11, 39: 12}\n"
     ]
    }
   ],
   "source": [
    "# create labels map file & save as pickle\n",
    "uniqu_labels = image_list_shuffle.act_class.unique()\n",
    "\n",
    "class_list = {}\n",
    "for idx, label in enumerate(uniqu_labels):\n",
    "    class_list[idx]=label\n",
    "\n",
    "with open(os.path.join(root_dir, 'labels_map.pickle'), 'wb') as handle:\n",
    "     pickle.dump(class_list, handle)\n",
    "        \n",
    "print(class_list)"
   ]
  },
  {
   "cell_type": "code",
   "execution_count": 57,
   "metadata": {
    "collapsed": false
   },
   "outputs": [
    {
     "data": {
      "text/plain": [
       "24268.800000000003"
      ]
     },
     "execution_count": 57,
     "metadata": {},
     "output_type": "execute_result"
    }
   ],
   "source": [
    "len(ds) * 0.8"
   ]
  },
  {
   "cell_type": "code",
   "execution_count": 58,
   "metadata": {
    "collapsed": false
   },
   "outputs": [],
   "source": [
    "with open(root_dir + '/../train_lst.txt', 'w') as f:\n",
    "    f.write(''.join(ds[:24172]))\n",
    "with open(root_dir + '/../test_lst.txt', 'w') as f:\n",
    "    f.write(''.join(ds[24172:]))\n",
    "f.close()\n"
   ]
  },
  {
   "cell_type": "code",
   "execution_count": null,
   "metadata": {
    "collapsed": true
   },
   "outputs": [],
   "source": []
  }
 ],
 "metadata": {
  "kernelspec": {
   "display_name": "Python [LvCSSS]",
   "language": "python",
   "name": "Python [LvCSSS]"
  },
  "language_info": {
   "codemirror_mode": {
    "name": "ipython",
    "version": 2
   },
   "file_extension": ".py",
   "mimetype": "text/x-python",
   "name": "python",
   "nbconvert_exporter": "python",
   "pygments_lexer": "ipython2",
   "version": "2.7.12"
  }
 },
 "nbformat": 4,
 "nbformat_minor": 0
}
