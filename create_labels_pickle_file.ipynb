{
 "cells": [
  {
   "cell_type": "code",
   "execution_count": 67,
   "metadata": {
    "collapsed": false
   },
   "outputs": [
    {
     "name": "stdout",
     "output_type": "stream",
     "text": [
      "/home/chip/LvCSSS/Project\n"
     ]
    }
   ],
   "source": [
    "import os\n",
    "import pickle\n",
    "\n",
    "import pandas as pd\n",
    "\n",
    "image_dir = os.path.abspath('image_data/images')\n",
    "root_dir  = os.path.abspath('.')\n",
    "print root_dir"
   ]
  },
  {
   "cell_type": "code",
   "execution_count": 68,
   "metadata": {
    "collapsed": true
   },
   "outputs": [],
   "source": [
    "image_list = pd.read_csv(os.path.join(root_dir,'actions.csv'))\n",
    "#image_list.head(20)\n",
    "\n",
    "np.random.seed(112)\n",
    "#help(image_list.dropna)\n",
    "image_list_clean = image_list.dropna()\n",
    "#image_list_clean.head(20)\n",
    "image_list_shuffle = image_list_clean.reindex(np.random.permutation(image_list_clean.index))"
   ]
  },
  {
   "cell_type": "code",
   "execution_count": 69,
   "metadata": {
    "collapsed": false
   },
   "outputs": [
    {
     "name": "stdout",
     "output_type": "stream",
     "text": [
      "{'water activities': 15, 'home repair': 6, 'walking': 12, 'fishing and hunting': 8, 'religious activities': 16, 'winter activities': 4, 'bicycling': 2, 'miscellaneous': 3, 'music playing': 0, 'sports': 5, 'conditioning exercise': 9, 'running': 11, 'dancing': 7, 'home activities': 1, 'inactivity quiet/light': 17, 'lawn and garden': 14, 'self care': 18, 'transportation': 19, 'volunteer activities': 13, 'occupation': 10}\n"
     ]
    }
   ],
   "source": [
    "# create labels map file & save as pickle\n",
    "uniqu_labels = image_list_shuffle.act_class.unique()\n",
    "\n",
    "class_list = {}\n",
    "for idx, label in enumerate(uniqu_labels):\n",
    "    class_list[label]=idx\n",
    "\n",
    "with open(os.path.join(root_dir, 'labels_map.pickle'), 'wb') as handle:\n",
    "     pickle.dump(class_list, handle)\n",
    "        \n",
    "print(class_list)"
   ]
  }
 ],
 "metadata": {
  "kernelspec": {
   "display_name": "Python 3",
   "language": "python",
   "name": "python3"
  },
  "language_info": {
   "codemirror_mode": {
    "name": "ipython",
    "version": 3
   },
   "file_extension": ".py",
   "mimetype": "text/x-python",
   "name": "python",
   "nbconvert_exporter": "python",
   "pygments_lexer": "ipython3",
   "version": "3.5.2"
  }
 },
 "nbformat": 4,
 "nbformat_minor": 0
}
