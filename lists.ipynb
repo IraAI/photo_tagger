{
 "cells": [
  {
   "cell_type": "code",
   "execution_count": 47,
   "metadata": {
    "collapsed": false
   },
   "outputs": [
    {
     "name": "stdout",
     "output_type": "stream",
     "text": [
      "/home/chip/anaconda2/envs/LvCSSS/DLinCV/lvsc/data/plankton/raw/train\n"
     ]
    }
   ],
   "source": [
    "import os\n",
    "import random as r\n",
    "root_dir = os.path.abspath('../data/plankton/raw/train')\n",
    "print root_dir"
   ]
  },
  {
   "cell_type": "code",
   "execution_count": 48,
   "metadata": {
    "collapsed": false
   },
   "outputs": [],
   "source": [
    "subdirs = sorted(os.listdir(root_dir))\n",
    "# print subdirs"
   ]
  },
  {
   "cell_type": "code",
   "execution_count": 54,
   "metadata": {
    "collapsed": false
   },
   "outputs": [],
   "source": [
    "f = open(root_dir + '/../all_lst.txt', 'w')\n",
    "for i, d in enumerate(subdirs):\n",
    "    fns = os.listdir(root_dir + '/' + d)\n",
    "#     lines = [root_dir + '/' + d + '/' + fn + '\\t' + str(i) for fn in fns]\n",
    "    lines = [root_dir + '/' + d + '/' + fn + ' ' + str(i) for fn in fns]\n",
    "    f.write('\\n'.join(lines) + '\\n')\n",
    "f.close()\n",
    "\n",
    "f = open(root_dir + '/../all_lst.txt')\n",
    "ds = f.readlines()"
   ]
  },
  {
   "cell_type": "code",
   "execution_count": 55,
   "metadata": {
    "collapsed": false
   },
   "outputs": [
    {
     "data": {
      "text/plain": [
       "['/home/chip/anaconda2/envs/LvCSSS/DLinCV/lvsc/data/plankton/raw/train/chaetognath_non_sagitta/73216.jpg 10\\n',\n",
       " '/home/chip/anaconda2/envs/LvCSSS/DLinCV/lvsc/data/plankton/raw/train/chaetognath_non_sagitta/124631.jpg 10\\n',\n",
       " '/home/chip/anaconda2/envs/LvCSSS/DLinCV/lvsc/data/plankton/raw/train/chaetognath_non_sagitta/117846.jpg 10\\n',\n",
       " '/home/chip/anaconda2/envs/LvCSSS/DLinCV/lvsc/data/plankton/raw/train/chaetognath_non_sagitta/110442.jpg 10\\n',\n",
       " '/home/chip/anaconda2/envs/LvCSSS/DLinCV/lvsc/data/plankton/raw/train/chaetognath_non_sagitta/10116.jpg 10\\n',\n",
       " '/home/chip/anaconda2/envs/LvCSSS/DLinCV/lvsc/data/plankton/raw/train/chaetognath_non_sagitta/149775.jpg 10\\n',\n",
       " '/home/chip/anaconda2/envs/LvCSSS/DLinCV/lvsc/data/plankton/raw/train/chaetognath_non_sagitta/116728.jpg 10\\n',\n",
       " '/home/chip/anaconda2/envs/LvCSSS/DLinCV/lvsc/data/plankton/raw/train/chaetognath_non_sagitta/87468.jpg 10\\n',\n",
       " '/home/chip/anaconda2/envs/LvCSSS/DLinCV/lvsc/data/plankton/raw/train/chaetognath_non_sagitta/86023.jpg 10\\n',\n",
       " '/home/chip/anaconda2/envs/LvCSSS/DLinCV/lvsc/data/plankton/raw/train/chaetognath_non_sagitta/91843.jpg 10\\n']"
      ]
     },
     "execution_count": 55,
     "metadata": {},
     "output_type": "execute_result"
    }
   ],
   "source": [
    "ds[3870:3880]"
   ]
  },
  {
   "cell_type": "code",
   "execution_count": 56,
   "metadata": {
    "collapsed": true
   },
   "outputs": [],
   "source": [
    "r.shuffle(ds)"
   ]
  },
  {
   "cell_type": "code",
   "execution_count": 57,
   "metadata": {
    "collapsed": false
   },
   "outputs": [
    {
     "data": {
      "text/plain": [
       "24268.800000000003"
      ]
     },
     "execution_count": 57,
     "metadata": {},
     "output_type": "execute_result"
    }
   ],
   "source": [
    "len(ds) * 0.8"
   ]
  },
  {
   "cell_type": "code",
   "execution_count": 58,
   "metadata": {
    "collapsed": false
   },
   "outputs": [],
   "source": [
    "with open(root_dir + '/../train_lst.txt', 'w') as f:\n",
    "    f.write(''.join(ds[:24172]))\n",
    "with open(root_dir + '/../test_lst.txt', 'w') as f:\n",
    "    f.write(''.join(ds[24172:]))\n",
    "f.close()\n"
   ]
  },
  {
   "cell_type": "code",
   "execution_count": null,
   "metadata": {
    "collapsed": true
   },
   "outputs": [],
   "source": []
  }
 ],
 "metadata": {
  "kernelspec": {
   "display_name": "Python [LvCSSS]",
   "language": "python",
   "name": "Python [LvCSSS]"
  },
  "language_info": {
   "codemirror_mode": {
    "name": "ipython",
    "version": 2
   },
   "file_extension": ".py",
   "mimetype": "text/x-python",
   "name": "python",
   "nbconvert_exporter": "python",
   "pygments_lexer": "ipython2",
   "version": "2.7.12"
  }
 },
 "nbformat": 4,
 "nbformat_minor": 0
}
